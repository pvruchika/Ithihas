{
 "cells": [
  {
   "cell_type": "code",
   "execution_count": 1,
   "id": "6d2141bc",
   "metadata": {},
   "outputs": [
    {
     "name": "stderr",
     "output_type": "stream",
     "text": [
      "<frozen importlib._bootstrap>:219: RuntimeWarning: scipy._lib.messagestream.MessageStream size changed, may indicate binary incompatibility. Expected 56 from C header, got 64 from PyObject\n"
     ]
    }
   ],
   "source": [
    "import pandas as pd\n",
    "import numpy as np\n",
    "from nltk.corpus import stopwords\n",
    "import re\n",
    "import string\n",
    "import ktrain\n",
    "from ktrain import text\n",
    "import re\n",
    "import string\n",
    "import scipy\n",
    "import pickle\n",
    "import os,glob\n",
    "import pandas as pd\n",
    "import numpy as np\n",
    "import seaborn as sns\n",
    "import warnings \n",
    "from nltk.corpus import stopwords\n",
    "from nltk.tokenize import word_tokenize\n",
    "\n",
    "import matplotlib.pyplot as plt\n",
    "from prettytable import PrettyTable\n",
    "from joblib import dump, load\n",
    "from astropy.table import Table, Column\n",
    "from sklearn.utils import shuffle\n",
    "\n",
    "warnings.filterwarnings(\"ignore\")"
   ]
  },
  {
   "cell_type": "code",
   "execution_count": 4,
   "id": "cd8b3c4d",
   "metadata": {},
   "outputs": [
    {
     "name": "stdout",
     "output_type": "stream",
     "text": [
      "Training Data:\n",
      "=============\n",
      "\n"
     ]
    },
    {
     "data": {
      "text/html": [
       "<div>\n",
       "<style scoped>\n",
       "    .dataframe tbody tr th:only-of-type {\n",
       "        vertical-align: middle;\n",
       "    }\n",
       "\n",
       "    .dataframe tbody tr th {\n",
       "        vertical-align: top;\n",
       "    }\n",
       "\n",
       "    .dataframe thead th {\n",
       "        text-align: right;\n",
       "    }\n",
       "</style>\n",
       "<table border=\"1\" class=\"dataframe\">\n",
       "  <thead>\n",
       "    <tr style=\"text-align: right;\">\n",
       "      <th></th>\n",
       "      <th>text</th>\n",
       "      <th>sentiment</th>\n",
       "    </tr>\n",
       "  </thead>\n",
       "  <tbody>\n",
       "    <tr>\n",
       "      <th>0</th>\n",
       "      <td>hope able confide everything never able confid...</td>\n",
       "      <td>positive</td>\n",
       "    </tr>\n",
       "    <tr>\n",
       "      <th>1</th>\n",
       "      <td>ill begin moment got moment saw lying table am...</td>\n",
       "      <td>positive</td>\n",
       "    </tr>\n",
       "    <tr>\n",
       "      <th>2</th>\n",
       "      <td>birthday party sunday afternoon rin tin tin mo...</td>\n",
       "      <td>positive</td>\n",
       "    </tr>\n",
       "    <tr>\n",
       "      <th>3</th>\n",
       "      <td>writing diary really strange experience someon...</td>\n",
       "      <td>positive</td>\n",
       "    </tr>\n",
       "    <tr>\n",
       "      <th>4</th>\n",
       "      <td>dearest kitty entire class quaking boots reaso...</td>\n",
       "      <td>positive</td>\n",
       "    </tr>\n",
       "  </tbody>\n",
       "</table>\n",
       "</div>"
      ],
      "text/plain": [
       "                                                text sentiment\n",
       "0  hope able confide everything never able confid...  positive\n",
       "1  ill begin moment got moment saw lying table am...  positive\n",
       "2  birthday party sunday afternoon rin tin tin mo...  positive\n",
       "3  writing diary really strange experience someon...  positive\n",
       "4  dearest kitty entire class quaking boots reaso...  positive"
      ]
     },
     "execution_count": 4,
     "metadata": {},
     "output_type": "execute_result"
    }
   ],
   "source": [
    "training_data = pd.read_csv('annefinal.csv')\n",
    "training_data = pd.DataFrame(training_data)\n",
    "#Load the Training Data\n",
    "print(\"Training Data:\")\n",
    "print(\"=============\\n\")\n",
    "training_data.head()"
   ]
  },
  {
   "cell_type": "code",
   "execution_count": null,
   "id": "e1747b25",
   "metadata": {},
   "outputs": [],
   "source": [
    "from transformers import AutoTokenizer\n",
    "tokenizer = AutoTokenizer.from_pretrained(\"model\")\n",
    "\n",
    "# Load the model\n",
    "from transformers import AutoModelForSequenceClassification\n",
    "model = AutoModelForSequenceClassification.from_pretrained(\"model\")\n",
    "\n"
   ]
  },
  {
   "cell_type": "code",
   "execution_count": null,
   "id": "4d1f4bda",
   "metadata": {},
   "outputs": [],
   "source": [
    "\n",
    "X = pd.DataFrame(preprocessed_training_data['text'])\n",
    "y = training_data_output\n",
    "\n",
    "print(\"\\nInput Shape of  Data\")\n",
    "print(\"============================\\n\")\n",
    "print(X.shape)\n",
    "\n",
    "print(\"\\nOutput Shape of  Data\")\n",
    "print(\"============================\\n\")\n",
    "print(y.shape)"
   ]
  },
  {
   "cell_type": "code",
   "execution_count": null,
   "id": "58d0fd4a",
   "metadata": {},
   "outputs": [],
   "source": [
    "from sklearn.model_selection import train_test_split\n",
    "\n",
    "x_train, x_test, y_train, y_test =train_test_split(X, y, test_size=0.2, random_state=42)\n",
    "x_train = x_train[\"text\"].astype(str)\n",
    "x_test = x_test[\"text\"].astype(str)\n",
    "class_names = ['negative', 'neutral', 'positive']"
   ]
  },
  {
   "cell_type": "code",
   "execution_count": null,
   "id": "bfc0395f",
   "metadata": {},
   "outputs": [],
   "source": [
    "from ktrain import text\n",
    "\n",
    "\n",
    "roberta = 'distilbert-base-cased'\n",
    "\n",
    "\n",
    "# Create a Transformer \n",
    "\n",
    "t = text.Transformer(roberta, maxlen=500, class_names=[0, 1,2])\n",
    "\n",
    "## Preprocess the Corpus\n",
    "\n",
    "trn = t.preprocess_train(x_train.values, y_train.values)\n",
    "val = t.preprocess_test(x_test.values, y_test.values)"
   ]
  },
  {
   "cell_type": "code",
   "execution_count": null,
   "id": "bc8979d1",
   "metadata": {},
   "outputs": [],
   "source": [
    "## Create a Model and Wrap in Learner\n",
    "\n",
    "model = t.get_classifier()"
   ]
  },
  {
   "cell_type": "code",
   "execution_count": null,
   "id": "e226cf56",
   "metadata": {},
   "outputs": [],
   "source": [
    "learner = ktrain.get_learner(model, train_data=trn, batch_size=5)"
   ]
  },
  {
   "cell_type": "code",
   "execution_count": null,
   "id": "a27acf9c",
   "metadata": {},
   "outputs": [],
   "source": [
    "learner.validate(val_data=val, class_names= [0,1,2])"
   ]
  }
 ],
 "metadata": {
  "kernelspec": {
   "display_name": "Python 3",
   "language": "python",
   "name": "python3"
  },
  "language_info": {
   "codemirror_mode": {
    "name": "ipython",
    "version": 3
   },
   "file_extension": ".py",
   "mimetype": "text/x-python",
   "name": "python",
   "nbconvert_exporter": "python",
   "pygments_lexer": "ipython3",
   "version": "3.8.3"
  }
 },
 "nbformat": 4,
 "nbformat_minor": 5
}
